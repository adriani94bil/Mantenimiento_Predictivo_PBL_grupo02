{
 "cells": [
  {
   "cell_type": "markdown",
   "metadata": {},
   "source": [
    "# Generacion modelo IA"
   ]
  },
  {
   "cell_type": "markdown",
   "metadata": {},
   "source": [
    "En este notebook desarrollamos el modelo de detección de errores"
   ]
  },
  {
   "cell_type": "code",
   "execution_count": 25,
   "metadata": {},
   "outputs": [],
   "source": [
    "import numpy as np\n",
    "import pandas as pd\n",
    "import os\n",
    "from PIL import Image\n",
    "import matplotlib.image as mpimg\n",
    "import matplotlib.pyplot as plt\n",
    "import matplotlib\n",
    "import shutil\n",
    "\n",
    "import torch\n",
    "from sklearn.model_selection import train_test_split\n",
    "from torch import nn\n",
    "from torch import optim\n",
    "from torch.utils.data import Dataset, DataLoader, TensorDataset\n",
    "from torchvision import transforms, models\n",
    "import torch.nn.functional as F\n",
    "from sklearn.metrics import confusion_matrix,ConfusionMatrixDisplay\n",
    "from sklearn.metrics import f1_score,precision_score\n",
    "DEVICE = torch.device(\"cuda\" if torch.cuda.is_available() else \"cpu\")\n",
    "from tqdm import tqdm\n",
    "from time import sleep"
   ]
  },
  {
   "cell_type": "code",
   "execution_count": 26,
   "metadata": {},
   "outputs": [],
   "source": [
    "def get_jpg_paths(directory):\n",
    "    \"\"\"\n",
    "    Recorre una carpeta y sus subcarpetas para encontrar archivos con extensión .jpeg.\n",
    "    Retorna un DataFrame con una columna 'relative_path' que contiene los caminos relativos de las imágenes.\n",
    "    \n",
    "    Parameters:\n",
    "        directory (str): El path a la carpeta raíz que contiene las subcarpetas.\n",
    "    \n",
    "    Returns:\n",
    "        pd.DataFrame: Un DataFrame con los caminos relativos de las imágenes .jpeg.\n",
    "    \"\"\"\n",
    "    jpg_paths = []\n",
    "    \n",
    "    # Recorre todas las carpetas y archivos dentro del directorio\n",
    "    for root, _, files in os.walk(directory):\n",
    "        for file in files:\n",
    "            if file.lower().endswith('.jpg'):  # Aseguramos que la extensión sea .jpeg\n",
    "                # Calculamos el camino relativo\n",
    "                relative_path = os.path.relpath(os.path.join(root, file), start=directory)\n",
    "                jpg_paths.append(relative_path)\n",
    "    \n",
    "    # Creamos un DataFrame con los resultados\n",
    "    df = pd.DataFrame(jpg_paths, columns=['relative_path'])\n",
    "    return df"
   ]
  },
  {
   "cell_type": "code",
   "execution_count": 27,
   "metadata": {},
   "outputs": [
    {
     "data": {
      "text/html": [
       "<div>\n",
       "<style scoped>\n",
       "    .dataframe tbody tr th:only-of-type {\n",
       "        vertical-align: middle;\n",
       "    }\n",
       "\n",
       "    .dataframe tbody tr th {\n",
       "        vertical-align: top;\n",
       "    }\n",
       "\n",
       "    .dataframe thead th {\n",
       "        text-align: right;\n",
       "    }\n",
       "</style>\n",
       "<table border=\"1\" class=\"dataframe\">\n",
       "  <thead>\n",
       "    <tr style=\"text-align: right;\">\n",
       "      <th></th>\n",
       "      <th>relative_path</th>\n",
       "      <th>defecto</th>\n",
       "    </tr>\n",
       "  </thead>\n",
       "  <tbody>\n",
       "    <tr>\n",
       "      <th>0</th>\n",
       "      <td>kos01\\Part0.jpg</td>\n",
       "      <td>0</td>\n",
       "    </tr>\n",
       "    <tr>\n",
       "      <th>1</th>\n",
       "      <td>kos01\\Part1.jpg</td>\n",
       "      <td>0</td>\n",
       "    </tr>\n",
       "    <tr>\n",
       "      <th>2</th>\n",
       "      <td>kos01\\Part2.jpg</td>\n",
       "      <td>0</td>\n",
       "    </tr>\n",
       "    <tr>\n",
       "      <th>3</th>\n",
       "      <td>kos01\\Part3.jpg</td>\n",
       "      <td>0</td>\n",
       "    </tr>\n",
       "    <tr>\n",
       "      <th>4</th>\n",
       "      <td>kos01\\Part4.jpg</td>\n",
       "      <td>0</td>\n",
       "    </tr>\n",
       "    <tr>\n",
       "      <th>...</th>\n",
       "      <td>...</td>\n",
       "      <td>...</td>\n",
       "    </tr>\n",
       "    <tr>\n",
       "      <th>498</th>\n",
       "      <td>kos50\\Part4_res.jpg</td>\n",
       "      <td>1</td>\n",
       "    </tr>\n",
       "    <tr>\n",
       "      <th>499</th>\n",
       "      <td>kos50\\Part4_rot.jpg</td>\n",
       "      <td>1</td>\n",
       "    </tr>\n",
       "    <tr>\n",
       "      <th>500</th>\n",
       "      <td>kos50\\Part5.jpg</td>\n",
       "      <td>0</td>\n",
       "    </tr>\n",
       "    <tr>\n",
       "      <th>501</th>\n",
       "      <td>kos50\\Part6.jpg</td>\n",
       "      <td>0</td>\n",
       "    </tr>\n",
       "    <tr>\n",
       "      <th>502</th>\n",
       "      <td>kos50\\Part7.jpg</td>\n",
       "      <td>0</td>\n",
       "    </tr>\n",
       "  </tbody>\n",
       "</table>\n",
       "<p>503 rows × 2 columns</p>\n",
       "</div>"
      ],
      "text/plain": [
       "           relative_path  defecto\n",
       "0        kos01\\Part0.jpg        0\n",
       "1        kos01\\Part1.jpg        0\n",
       "2        kos01\\Part2.jpg        0\n",
       "3        kos01\\Part3.jpg        0\n",
       "4        kos01\\Part4.jpg        0\n",
       "..                   ...      ...\n",
       "498  kos50\\Part4_res.jpg        1\n",
       "499  kos50\\Part4_rot.jpg        1\n",
       "500      kos50\\Part5.jpg        0\n",
       "501      kos50\\Part6.jpg        0\n",
       "502      kos50\\Part7.jpg        0\n",
       "\n",
       "[503 rows x 2 columns]"
      ]
     },
     "execution_count": 27,
     "metadata": {},
     "output_type": "execute_result"
    }
   ],
   "source": [
    "df_fallos=pd.read_csv('defectos_info.csv')\n",
    "df_fallos"
   ]
  },
  {
   "cell_type": "code",
   "execution_count": 28,
   "metadata": {},
   "outputs": [
    {
     "name": "stderr",
     "output_type": "stream",
     "text": [
      "c:\\Users\\Adrian\\Documents\\MONDRAGON\\PBL2 Grupo 02\\Mantenimiento_Predictivo_PBL_grupo02\\.conda\\Lib\\site-packages\\torchvision\\models\\_utils.py:208: UserWarning: The parameter 'pretrained' is deprecated since 0.13 and may be removed in the future, please use 'weights' instead.\n",
      "  warnings.warn(\n",
      "c:\\Users\\Adrian\\Documents\\MONDRAGON\\PBL2 Grupo 02\\Mantenimiento_Predictivo_PBL_grupo02\\.conda\\Lib\\site-packages\\torchvision\\models\\_utils.py:223: UserWarning: Arguments other than a weight enum or `None` for 'weights' are deprecated since 0.13 and may be removed in the future. The current behavior is equivalent to passing `weights=ResNet18_Weights.IMAGENET1K_V1`. You can also use `weights=ResNet18_Weights.DEFAULT` to get the most up-to-date weights.\n",
      "  warnings.warn(msg)\n"
     ]
    }
   ],
   "source": [
    "\n",
    "# Reemplazando el modelo actual con ResNet preentrenado\n",
    "model = models.resnet18(pretrained=True)\n",
    "num_ftrs = model.fc.in_features\n",
    "model.fc = nn.Linear(num_ftrs, 2)  # Ajustamos para clasificación binaria\n",
    "model = model.to(DEVICE)\n"
   ]
  },
  {
   "cell_type": "code",
   "execution_count": 29,
   "metadata": {},
   "outputs": [],
   "source": [
    "class ConvertToRGB:\n",
    "    def __call__(self, img):\n",
    "        if img.mode != \"RGB\":\n",
    "            img = img.convert(\"RGB\")\n",
    "        return img"
   ]
  },
  {
   "cell_type": "code",
   "execution_count": 30,
   "metadata": {},
   "outputs": [
    {
     "data": {
      "text/plain": [
       "image_size\n",
       "(500, 1260)    39\n",
       "(500, 1253)    27\n",
       "(500, 1254)    24\n",
       "(500, 1261)    24\n",
       "(500, 1259)    23\n",
       "(500, 1270)    22\n",
       "(500, 1263)    22\n",
       "(500, 1255)    22\n",
       "(500, 1257)    21\n",
       "(500, 1267)    19\n",
       "(500, 1256)    17\n",
       "(500, 1264)    17\n",
       "(500, 1251)    17\n",
       "(500, 1266)    17\n",
       "(500, 1258)    16\n",
       "(500, 1265)    14\n",
       "(500, 1250)    14\n",
       "(500, 1247)    13\n",
       "(500, 1262)    13\n",
       "(500, 1252)    10\n",
       "(500, 1248)    10\n",
       "(500, 1249)     9\n",
       "(500, 1274)     8\n",
       "(500, 1246)     8\n",
       "(500, 1244)     6\n",
       "(500, 1241)     6\n",
       "(500, 1269)     6\n",
       "(500, 1281)     6\n",
       "(500, 1273)     6\n",
       "(500, 1245)     6\n",
       "(500, 1271)     5\n",
       "(500, 1240)     5\n",
       "(500, 1268)     5\n",
       "(500, 1282)     4\n",
       "(500, 1243)     4\n",
       "(500, 1280)     3\n",
       "(500, 1272)     3\n",
       "(500, 1242)     3\n",
       "(500, 1275)     2\n",
       "(500, 1235)     2\n",
       "(500, 1284)     1\n",
       "(500, 1276)     1\n",
       "(500, 1285)     1\n",
       "(500, 1277)     1\n",
       "(500, 1239)     1\n",
       "Name: count, dtype: int64"
      ]
     },
     "execution_count": 30,
     "metadata": {},
     "output_type": "execute_result"
    }
   ],
   "source": [
    "def get_image_size(image_path):\n",
    "    with Image.open(image_path) as img:\n",
    "        return img.size\n",
    "df_tama = df_fallos.copy()\n",
    "# Añadir la columna de tamaño de imagen\n",
    "df_tama['image_size'] = df_tama['relative_path'].apply(lambda x: get_image_size(os.path.join('data_augmentation', x)))\n",
    "\n",
    "df_tama['image_size'].value_counts()"
   ]
  },
  {
   "cell_type": "markdown",
   "metadata": {},
   "source": [
    "Al tener distintos tamaños, vamos a hacer un resize del tamaño que se nos marca como requerimiento inicial de 1408x512"
   ]
  },
  {
   "cell_type": "code",
   "execution_count": null,
   "metadata": {},
   "outputs": [
    {
     "name": "stdout",
     "output_type": "stream",
     "text": [
      "Epoch 1/25, Train Loss: 0.6142, Val Loss: 2.4743\n",
      "Epoch 2/25, Train Loss: 0.3282, Val Loss: 1.7209\n",
      "Epoch 3/25, Train Loss: 0.4662, Val Loss: 2.0948\n",
      "Epoch 4/25, Train Loss: 0.2530, Val Loss: 3.5924\n",
      "Epoch 5/25, Train Loss: 0.1636, Val Loss: 0.2407\n",
      "Epoch 6/25, Train Loss: 0.0897, Val Loss: 1.0722\n",
      "Epoch 7/25, Train Loss: 0.1127, Val Loss: 0.2215\n",
      "Epoch 8/25, Train Loss: 0.0949, Val Loss: 1.7315\n",
      "Epoch 9/25, Train Loss: 0.0618, Val Loss: 1.1926\n",
      "Epoch 10/25, Train Loss: 0.0381, Val Loss: 0.0724\n",
      "Epoch 11/25, Train Loss: 0.0543, Val Loss: 0.2416\n",
      "Epoch 12/25, Train Loss: 0.0228, Val Loss: 0.1362\n",
      "Epoch 13/25, Train Loss: 0.0127, Val Loss: 0.1602\n",
      "Early stopping triggered\n"
     ]
    },
    {
     "data": {
      "image/png": "[encoded data removed]",
      "text/plain": [
       "<Figure size 640x480 with 1 Axes>"
      ]
     },
     "metadata": {},
     "output_type": "display_data"
    }
   ],
   "source": [
    "\n",
    "# Preparar los datos\n",
    "\n",
    "# Filtrar las imágenes con defecto y sin defecto\n",
    "df_defecto = df_fallos[df_fallos['defecto'] == 1]\n",
    "df_no_defecto = df_fallos[df_fallos['defecto'] == 0]\n",
    "\n",
    "# Seleccionar 120 imágenes de cada tipo para el conjunto de entrenamiento\n",
    "df_defecto_train = df_defecto.sample(n=120, random_state=42)\n",
    "df_no_defecto_train = df_no_defecto.sample(n=120, random_state=42)\n",
    "\n",
    "# El resto de las imágenes se utilizarán para el conjunto de validación\n",
    "df_defecto_val = df_defecto.drop(df_defecto_train.index)\n",
    "df_no_defecto_val = df_no_defecto.drop(df_no_defecto_train.index)\n",
    "\n",
    "# Combinar los conjuntos de entrenamiento y validación\n",
    "df_train = pd.concat([df_defecto_train, df_no_defecto_train]).reset_index(drop=True)\n",
    "df_val = pd.concat([df_defecto_val, df_no_defecto_val]).reset_index(drop=True)\n",
    "\n",
    "# Definir el dataset personalizado\n",
    "class DefectDataset(Dataset):\n",
    "    def __init__(self, df, root_dir, transform=None):\n",
    "        self.df = df\n",
    "        self.root_dir = root_dir\n",
    "        self.transform = transform\n",
    "\n",
    "    def __len__(self):\n",
    "        return len(self.df)\n",
    "\n",
    "    def __getitem__(self, idx):\n",
    "        img_name = os.path.join(self.root_dir, self.df.iloc[idx, 0])\n",
    "        image = Image.open(img_name).convert('RGB')\n",
    "        label = self.df.iloc[idx, 1]\n",
    "        \n",
    "        if self.transform:\n",
    "            image = self.transform(image)\n",
    "        \n",
    "        return image, label\n",
    "\n",
    "# Definir las transformaciones\n",
    "transform = transforms.Compose([\n",
    "    ConvertToRGB(),\n",
    "    transforms.ToTensor(),\n",
    "    transforms.Resize((256,704)),\n",
    "    transforms.Normalize((0.5,), (0.5,))\n",
    "])\n",
    "\n",
    "# Crear los datasets y dataloaders\n",
    "train_dataset = DefectDataset(df_train, root_dir='data_augmentation', transform=transform)\n",
    "val_dataset = DefectDataset(df_val, root_dir='data_augmentation', transform=transform)\n",
    "\n",
    "# Crear los dataloaders con num_workers\n",
    "train_loader = DataLoader(train_dataset, batch_size=32, shuffle=True)\n",
    "val_loader = DataLoader(val_dataset, batch_size=32, shuffle=False)\n",
    "\n",
    "\n",
    "criterion = nn.BCEWithLogitsLoss()\n",
    "optimizer = optim.Adam(model.parameters(), lr=0.003, weight_decay=1e-4)\n",
    "\n",
    "# Entrenar el modelo con early stopping\n",
    "class EarlyStopper:\n",
    "    def __init__(self, patience=5, min_delta=0):\n",
    "        self.patience = patience\n",
    "        self.min_delta = min_delta\n",
    "        self.counter = 0\n",
    "        self.best_loss = None\n",
    "        self.early_stop = False\n",
    "\n",
    "    def __call__(self, val_loss):\n",
    "        if self.best_loss is None:\n",
    "            self.best_loss = val_loss\n",
    "        elif val_loss > self.best_loss - self.min_delta:\n",
    "            self.counter += 1\n",
    "            if self.counter >= self.patience:\n",
    "                self.early_stop = True\n",
    "        else:\n",
    "            self.best_loss = val_loss\n",
    "            self.counter = 0\n",
    "\n",
    "early_stopper = EarlyStopper(patience=3, min_delta=0.01)\n",
    "\n",
    "num_epochs = 25\n",
    "train_losses = []\n",
    "val_losses = []\n",
    "\n",
    "for epoch in range(num_epochs):\n",
    "    model.train()\n",
    "    running_loss = 0.0\n",
    "    for images, labels in train_loader:\n",
    "        images, labels = images.to(DEVICE), labels.to(DEVICE)\n",
    "        labels = torch.nn.functional.one_hot(labels, num_classes=2).float()\n",
    "        optimizer.zero_grad()\n",
    "        outputs = model(images)\n",
    "        loss = criterion(outputs, labels)\n",
    "        loss.backward()\n",
    "        optimizer.step()\n",
    "        running_loss += loss.item()\n",
    "    \n",
    "    train_loss = running_loss / len(train_loader)\n",
    "    train_losses.append(train_loss)\n",
    "    \n",
    "    model.eval()\n",
    "    val_loss = 0.0\n",
    "    with torch.no_grad():\n",
    "        for images, labels in val_loader:\n",
    "            images, labels = images.to(DEVICE), labels.to(DEVICE)\n",
    "            labels = torch.nn.functional.one_hot(labels, num_classes=2).float()\n",
    "            outputs = model(images)\n",
    "            loss = criterion(outputs, labels)\n",
    "            val_loss += loss.item()\n",
    "    \n",
    "    val_loss /= len(val_loader)\n",
    "    val_losses.append(val_loss)\n",
    "    \n",
    "    print(f'Epoch {epoch+1}/{num_epochs}, Train Loss: {train_loss:.4f}, Val Loss: {val_loss:.4f}')\n",
    "    \n",
    "    early_stopper(val_loss)\n",
    "    if early_stopper.early_stop:\n",
    "        print(\"Early stopping triggered\")\n",
    "        break\n",
    "\n",
    "# Graficar las pérdidas\n",
    "plt.plot(range(1, len(train_losses)+1), train_losses, label='Train Loss')\n",
    "plt.plot(range(1, len(val_losses)+1), val_losses, label='Val Loss')\n",
    "plt.xlabel('Epoch')\n",
    "plt.ylabel('Loss')\n",
    "plt.legend()\n",
    "plt.show()\n"
   ]
  },
  {
   "cell_type": "code",
   "execution_count": 33,
   "metadata": {},
   "outputs": [],
   "source": [
    "def visualize_true_vs_pred(y_pred,y_true,title=\"\"):\n",
    "    \"\"\"\n",
    "    y_pred,y_true: deben ser dos numpy arrays, que contengan las clases predichas y reales, respectivamente.\n",
    "    title: un string que se añadirá en el título, para poder diferenciar la matriz de confusión del conjunto de entrenamiento y validación\n",
    "    \"\"\"\n",
    "    \n",
    "    prec = precision_score(y_true,y_pred,average=\"weighted\")\n",
    "    f1 = f1_score(y_true,y_pred,average=\"weighted\")\n",
    "\n",
    "    confusion_mat = confusion_matrix(y_true,y_pred)\n",
    "    \n",
    "    fig, ax = plt.subplots(figsize=(10,10))\n",
    "    disp = ConfusionMatrixDisplay(confusion_matrix=confusion_mat)\n",
    "    disp.plot(ax=ax)\n",
    "    Title = f\"F1 Score = {round(f1,3)}, Precisión = {round(100*prec,2)}\"\n",
    "    if title: Title=title+\": \"+Title\n",
    "    plt.title(Title)\n",
    "    plt.show()"
   ]
  },
  {
   "cell_type": "code",
   "execution_count": 34,
   "metadata": {},
   "outputs": [
    {
     "data": {
      "image/png": "[encoded data removed]",
      "text/plain": [
       "<Figure size 1000x1000 with 2 Axes>"
      ]
     },
     "metadata": {},
     "output_type": "display_data"
    },
    {
     "data": {
      "image/png": "[encoded data removed]",
      "text/plain": [
       "<Figure size 1000x1000 with 2 Axes>"
      ]
     },
     "metadata": {},
     "output_type": "display_data"
    }
   ],
   "source": [
    "# Obtener predicciones para el conjunto de entrenamiento\n",
    "model.eval()\n",
    "train_preds = []\n",
    "train_labels = []\n",
    "\n",
    "with torch.no_grad():\n",
    "    for images, labels in train_loader:\n",
    "        images, labels = images.to(DEVICE), labels.to(DEVICE)  \n",
    "        outputs = model(images)\n",
    "        _, predicted = torch.max(outputs, 1)\n",
    "        train_preds.extend(predicted.cpu().numpy())\n",
    "        train_labels.extend(labels.cpu().numpy())\n",
    "\n",
    "# Obtener predicciones para el conjunto de validación\n",
    "val_preds = []\n",
    "val_labels = []\n",
    "\n",
    "with torch.no_grad():\n",
    "    for images, labels in val_loader:\n",
    "        images, labels = images.to(DEVICE), labels.to(DEVICE) \n",
    "        outputs = model(images)\n",
    "        _, predicted = torch.max(outputs, 1)\n",
    "        val_preds.extend(predicted.cpu().numpy())\n",
    "        val_labels.extend(labels.cpu().numpy())\n",
    "\n",
    "# Visualizar la matriz de confusión para el conjunto de entrenamiento\n",
    "visualize_true_vs_pred(np.array(train_preds), np.array(train_labels), title=\"Train Set\")\n",
    "\n",
    "# Visualizar la matriz de confusión para el conjunto de validación\n",
    "visualize_true_vs_pred(np.array(val_preds), np.array(val_labels), title=\"Validation Set\")"
   ]
  },
  {
   "cell_type": "code",
   "execution_count": 35,
   "metadata": {},
   "outputs": [
    {
     "name": "stdout",
     "output_type": "stream",
     "text": [
      "Modelo guardado exitosamente.\n"
     ]
    }
   ],
   "source": [
    "# Guardar el modelo entrenado\n",
    "#torch.save(model.state_dict(), 'modelo_resnet18.pth')\n",
    "#print(\"Modelo guardado exitosamente.\")"
   ]
  }
 ],
 "metadata": {
  "kernelspec": {
   "display_name": "Python 3",
   "language": "python",
   "name": "python3"
  },
  "language_info": {
   "codemirror_mode": {
    "name": "ipython",
    "version": 3
   },
   "file_extension": ".py",
   "mimetype": "text/x-python",
   "name": "python",
   "nbconvert_exporter": "python",
   "pygments_lexer": "ipython3",
   "version": "3.11.11"
  }
 },
 "nbformat": 4,
 "nbformat_minor": 2
}
